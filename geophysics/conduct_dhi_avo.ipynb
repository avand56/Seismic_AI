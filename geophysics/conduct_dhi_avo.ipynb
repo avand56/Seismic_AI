{
 "cells": [
  {
   "cell_type": "code",
   "execution_count": 51,
   "metadata": {},
   "outputs": [
    {
     "name": "stdout",
     "output_type": "stream",
     "text": [
      "The autoreload extension is already loaded. To reload it, use:\n",
      "  %reload_ext autoreload\n"
     ]
    }
   ],
   "source": [
    "%load_ext autoreload\n",
    "%autoreload 2"
   ]
  },
  {
   "cell_type": "code",
   "execution_count": 3,
   "metadata": {},
   "outputs": [
    {
     "ename": "ModuleNotFoundError",
     "evalue": "No module named 'utils.utils'; 'utils' is not a package",
     "output_type": "error",
     "traceback": [
      "\u001b[0;31m---------------------------------------------------------------------------\u001b[0m",
      "\u001b[0;31mModuleNotFoundError\u001b[0m                       Traceback (most recent call last)",
      "Cell \u001b[0;32mIn[3], line 12\u001b[0m\n\u001b[1;32m     10\u001b[0m \u001b[38;5;66;03m# Add a directory to the search path\u001b[39;00m\n\u001b[1;32m     11\u001b[0m sys\u001b[38;5;241m.\u001b[39mpath\u001b[38;5;241m.\u001b[39mappend(\u001b[38;5;124m'\u001b[39m\u001b[38;5;124m/Users/vanderhoeffalex/Library/CloudStorage/OneDrive-TheBostonConsultingGroup,Inc/Desktop/Seismic_AI\u001b[39m\u001b[38;5;124m'\u001b[39m)\n\u001b[0;32m---> 12\u001b[0m \u001b[38;5;28;01mfrom\u001b[39;00m \u001b[38;5;21;01mutils\u001b[39;00m\u001b[38;5;21;01m.\u001b[39;00m\u001b[38;5;21;01mutils\u001b[39;00m \u001b[38;5;28;01mimport\u001b[39;00m (\n\u001b[1;32m     13\u001b[0m     preprocess_traces,\n\u001b[1;32m     14\u001b[0m     find_max_trace_length,\n\u001b[1;32m     15\u001b[0m     read_segy_file,\n\u001b[1;32m     16\u001b[0m     visualize_seismic_data,\n\u001b[1;32m     17\u001b[0m     train_contrastive_ts,\n\u001b[1;32m     18\u001b[0m     segment_into_sequences,\n\u001b[1;32m     19\u001b[0m     create_patches,\n\u001b[1;32m     20\u001b[0m     scale_subsequences,\n\u001b[1;32m     21\u001b[0m     reshape_into_subsequences,\n\u001b[1;32m     22\u001b[0m     generate_test_pairs,\n\u001b[1;32m     23\u001b[0m     plot_aline\n\u001b[1;32m     24\u001b[0m )\n\u001b[1;32m     25\u001b[0m \u001b[38;5;28;01mfrom\u001b[39;00m \u001b[38;5;21;01mutils\u001b[39;00m\u001b[38;5;21;01m.\u001b[39;00m\u001b[38;5;21;01mmetrics\u001b[39;00m \u001b[38;5;28;01mimport\u001b[39;00m (\n\u001b[1;32m     26\u001b[0m     pixelwise_accuracy,\n\u001b[1;32m     27\u001b[0m     class_accuracy,\n\u001b[1;32m     28\u001b[0m     mean_class_accuracy,\n\u001b[1;32m     29\u001b[0m     mean_iou,\n\u001b[1;32m     30\u001b[0m )\n\u001b[1;32m     31\u001b[0m \u001b[38;5;28;01mfrom\u001b[39;00m \u001b[38;5;21;01mutils\u001b[39;00m\u001b[38;5;21;01m.\u001b[39;00m\u001b[38;5;21;01maugmentations\u001b[39;00m \u001b[38;5;28;01mimport\u001b[39;00m (\n\u001b[1;32m     32\u001b[0m     DataAugmentationImage,\n\u001b[1;32m     33\u001b[0m     Compose,\n\u001b[0;32m   (...)\u001b[0m\n\u001b[1;32m     46\u001b[0m     RandomRotate_np,\n\u001b[1;32m     47\u001b[0m )\n",
      "\u001b[0;31mModuleNotFoundError\u001b[0m: No module named 'utils.utils'; 'utils' is not a package"
     ]
    }
   ],
   "source": [
    "import sys\n",
    "import importlib\n",
    "import itertools\n",
    "import matplotlib.pyplot as plt\n",
    "from os import path\n",
    "from keras.callbacks import TensorBoard, ModelCheckpoint\n",
    "import datetime\n",
    "from keras.optimizers import Adam\n",
    "from keras.metrics import Precision, Recall\n",
    "# Add a directory to the search path\n",
    "sys.path.append('/Users/vanderhoeffalex/Library/CloudStorage/OneDrive-TheBostonConsultingGroup,Inc/Desktop/Seismic_AI')\n",
    "from utils.utils import (\n",
    "    preprocess_traces,\n",
    "    find_max_trace_length,\n",
    "    read_segy_file,\n",
    "    visualize_seismic_data,\n",
    "    train_contrastive_ts,\n",
    "    segment_into_sequences,\n",
    "    create_patches,\n",
    "    scale_subsequences,\n",
    "    reshape_into_subsequences,\n",
    "    generate_test_pairs,\n",
    "    plot_aline\n",
    ")\n",
    "from utils.metrics import (\n",
    "    pixelwise_accuracy,\n",
    "    class_accuracy,\n",
    "    mean_class_accuracy,\n",
    "    mean_iou,\n",
    ")\n",
    "from utils.augmentations import (\n",
    "    DataAugmentationImage,\n",
    "    Compose,\n",
    "    AddNoise,\n",
    "    RandomCrop,\n",
    "    CenterCrop,\n",
    "    RandomHorizontallyFlip,\n",
    "    RandomVerticallyFlip,\n",
    "    FreeScale,Scale,\n",
    "    RandomSizedCrop,\n",
    "    RandomRotate,\n",
    "    RandomSized,\n",
    "    RandomHorizontallyFlip_np,\n",
    "    RandomVerticallyFlip_np,\n",
    "    AddNoise_np,\n",
    "    RandomRotate_np,\n",
    ")\n",
    "\n",
    "from geophysics.dhi import DHIComputations\n",
    "from geophysics.utils import import_and_save_segy,segy_to_npy_prestack, segy_to_npy_with_coordinates, segy_to_npy_with_manual_headers,import_and_save_segy_3d,import_and_save_segy_3d_with_metadata\n",
    "from utils.utils import read_segy_file\n",
    "from keras.models import load_model\n",
    "from utils.debuggers import check_shapes, check_dataset_shapes\n",
    "from scripts.predict import make_predictions_unet\n",
    "from utils.visualizations import visualize_original_vs_prediction,reconstruct_from_patches, plot_original_and_reconstructed, plot_sections\n",
    "from utils.patch import  SeismicProcessor, SeismicProcessor3D, SeismicProcessor1D, SeismicProcessorTests, SeismicProcessorPredict,PatchGeneratorPredict\n",
    "from data.preprocess import TimeSeriesTFRecordReader,ImageMaskTFRecordWriter,TimeSeriesTFRecordWriter,TFRecordReader,TFRecordWriter\n",
    "from models.contrastive_learning import ContrastiveTimeSeriesModel, TimeSeriesAugmentation, Contrastive1DCNNModel\n",
    "from models.contrastive_learning import generate_pairs, contrastive_loss, augment_time_series\n",
    "from models.CNNs import UNet, ResNetSegmentation, create_segmentation_vgg16_model, unet_model\n",
    "import numpy as np\n",
    "import segyio\n",
    "import tensorflow as tf\n",
    "import pandas as pd\n",
    "import keras as ks\n",
    "from sklearn.model_selection import train_test_split\n",
    "from sklearn.preprocessing import StandardScaler"
   ]
  },
  {
   "cell_type": "code",
   "execution_count": 4,
   "metadata": {},
   "outputs": [
    {
     "name": "stdout",
     "output_type": "stream",
     "text": [
      "Number of inline slices: 401\n",
      "Number of crossline slices: 701\n",
      "Depth dimension : 255\n"
     ]
    }
   ],
   "source": [
    "# Load training data and labels\n",
    "# train_seismic = np.load(path.join(config.DATASET.ROOT, \"train/train_seismic.npy\"))\n",
    "# train_labels = np.load(path.join(config.DATASET.ROOT, \"train/train_labels.npy\"))\n",
    "\n",
    "train_labels = np.load('/Users/vanderhoeffalex/Library/CloudStorage/OneDrive-TheBostonConsultingGroup,Inc/Desktop/3755060/data/train/train_labels.npy')\n",
    "train_seismic = np.load('/Users/vanderhoeffalex/Library/CloudStorage/OneDrive-TheBostonConsultingGroup,Inc/Desktop/3755060/data/train/train_seismic.npy')\n",
    "\n",
    "print(f\"Number of inline slices: {train_seismic.shape[0]}\")\n",
    "print(f\"Number of crossline slices: {train_seismic.shape[1]}\")\n",
    "print(f\"Depth dimension : {train_seismic.shape[2]}\")"
   ]
  },
  {
   "cell_type": "code",
   "execution_count": 100,
   "metadata": {},
   "outputs": [
    {
     "name": "stdout",
     "output_type": "stream",
     "text": [
      "['AliasFilterFrequency', 'AliasFilterSlope', 'CDP', 'CDP_TRACE', 'CDP_X', 'CDP_Y', 'CROSSLINE_3D', 'CoordinateUnits', 'Correlated', 'DataUse', 'DayOfYear', 'DelayRecordingTime', 'ElevationScalar', 'EnergySourcePoint', 'FieldRecord', 'GainType', 'GapSize', 'GeophoneGroupNumberFirstTraceOrigField', 'GeophoneGroupNumberLastTraceOrigField', 'GeophoneGroupNumberRoll1', 'GroupStaticCorrection', 'GroupUpholeTime', 'GroupWaterDepth', 'GroupX', 'GroupY', 'HighCutFrequency', 'HighCutSlope', 'HourOfDay', 'INLINE_3D', 'InstrumentGainConstant', 'InstrumentInitialGain', 'LagTimeA', 'LagTimeB', 'LowCutFrequency', 'LowCutSlope', 'MinuteOfHour', 'MuteTimeEND', 'MuteTimeStart', 'NStackedTraces', 'NSummedTraces', 'NotchFilterFrequency', 'NotchFilterSlope', 'OverTravel', 'ReceiverDatumElevation', 'ReceiverGroupElevation', 'ScalarTraceHeader', 'SecondOfMinute', 'ShotPoint', 'ShotPointScalar', 'SourceDatumElevation', 'SourceDepth', 'SourceEnergyDirectionExponent', 'SourceEnergyDirectionMantissa', 'SourceGroupScalar', 'SourceMeasurementExponent', 'SourceMeasurementMantissa', 'SourceMeasurementUnit', 'SourceStaticCorrection', 'SourceSurfaceElevation', 'SourceType', 'SourceUpholeTime', 'SourceWaterDepth', 'SourceX', 'SourceY', 'SubWeatheringVelocity', 'SweepFrequencyEnd', 'SweepFrequencyStart', 'SweepLength', 'SweepTraceTaperLengthEnd', 'SweepTraceTaperLengthStart', 'SweepType', 'TRACE_SAMPLE_COUNT', 'TRACE_SAMPLE_INTERVAL', 'TRACE_SEQUENCE_FILE', 'TRACE_SEQUENCE_LINE', 'TaperType', 'TimeBaseCode', 'TotalStaticApplied', 'TraceIdentificationCode', 'TraceIdentifier', 'TraceNumber', 'TraceValueMeasurementUnit', 'TraceWeightingFactor', 'TransductionConstantMantissa', 'TransductionConstantPower', 'TransductionUnit', 'UnassignedInt1', 'UnassignedInt2', 'WeatheringVelocity', 'YearDataRecorded', '__class__', '__delattr__', '__dict__', '__dir__', '__doc__', '__eq__', '__format__', '__ge__', '__getattribute__', '__getstate__', '__gt__', '__hash__', '__init__', '__init_subclass__', '__int__', '__le__', '__lt__', '__module__', '__ne__', '__new__', '__reduce__', '__reduce_ex__', '__repr__', '__setattr__', '__sizeof__', '__str__', '__subclasshook__', '__weakref__', 'enums', 'offset']\n"
     ]
    }
   ],
   "source": [
    "# Printing all available fields in the TraceField enumeration\n",
    "print(dir(segyio.TraceField))"
   ]
  },
  {
   "cell_type": "code",
   "execution_count": 5,
   "metadata": {},
   "outputs": [
    {
     "name": "stdout",
     "output_type": "stream",
     "text": [
      "Number of inline slices: 601\n",
      "Number of crossline slices: 200\n",
      "Depth dimension : 255\n"
     ]
    }
   ],
   "source": [
    "test1_labels = np.load('/Users/vanderhoeffalex/Library/CloudStorage/OneDrive-TheBostonConsultingGroup,Inc/Desktop/3755060/data/test_once/test1_labels.npy')\n",
    "test1_seismic = np.load('/Users/vanderhoeffalex/Library/CloudStorage/OneDrive-TheBostonConsultingGroup,Inc/Desktop/3755060/data/test_once/test1_seismic.npy')\n",
    "\n",
    "test2_labels = np.load('/Users/vanderhoeffalex/Library/CloudStorage/OneDrive-TheBostonConsultingGroup,Inc/Desktop/3755060/data/test_once/test2_labels.npy')\n",
    "test2_seismic = np.load('/Users/vanderhoeffalex/Library/CloudStorage/OneDrive-TheBostonConsultingGroup,Inc/Desktop/3755060/data/test_once/test2_seismic.npy')\n",
    "\n",
    "print(f\"Number of inline slices: {test2_seismic.shape[0]}\")\n",
    "print(f\"Number of crossline slices: {test2_seismic.shape[1]}\")\n",
    "print(f\"Depth dimension : {test2_seismic.shape[2]}\")"
   ]
  },
  {
   "cell_type": "code",
   "execution_count": 8,
   "metadata": {},
   "outputs": [],
   "source": [
    "# read pre-stack datasets\n",
    "\n",
    "mobil = read_segy_file('/Users/vanderhoeffalex/Library/CloudStorage/OneDrive-TheBostonConsultingGroup,Inc/Desktop/F3 seismic data plus classification data for machine learning_/Mobil_AVO_prestack_seismic.segy')"
   ]
  },
  {
   "cell_type": "code",
   "execution_count": 44,
   "metadata": {},
   "outputs": [],
   "source": [
    "# read pre-stack datasets\n",
    "penobscot = read_segy_file('/Users/vanderhoeffalex/Library/CloudStorage/OneDrive-TheBostonConsultingGroup,Inc/Desktop/F3 seismic data plus classification data for machine learning_/CrossQI-FinalAngles/CQI-tAngs.sgy')"
   ]
  },
  {
   "cell_type": "code",
   "execution_count": 50,
   "metadata": {},
   "outputs": [],
   "source": [
    "penobscot = read_segy_file('/Users/vanderhoeffalex/Library/CloudStorage/OneDrive-TheBostonConsultingGroup,Inc/Desktop/F3 seismic data plus classification data for machine learning_/Penobscot_3D_gathers_part1/3D_gathers_pstm_nmo_X1001.sgy')"
   ]
  },
  {
   "cell_type": "code",
   "execution_count": 65,
   "metadata": {},
   "outputs": [
    {
     "name": "stdout",
     "output_type": "stream",
     "text": [
      "Processed and saved /Users/vanderhoeffalex/Library/CloudStorage/OneDrive-TheBostonConsultingGroup,Inc/Desktop/F3 seismic data plus classification data for machine learning_/Penobscot_3D_gathers_part1/3D_gathers_pstm_nmo_X1041.sgy as /Users/vanderhoeffalex/Library/CloudStorage/OneDrive-TheBostonConsultingGroup,Inc/Desktop/F3 seismic data plus classification data for machine learning_/Penobscot_3D_gathers_part1/3D_gathers_pstm_nmo_X1041.npy\n",
      "Processed and saved /Users/vanderhoeffalex/Library/CloudStorage/OneDrive-TheBostonConsultingGroup,Inc/Desktop/F3 seismic data plus classification data for machine learning_/Penobscot_3D_gathers_part1/3D_gathers_pstm_nmo_X1561.sgy as /Users/vanderhoeffalex/Library/CloudStorage/OneDrive-TheBostonConsultingGroup,Inc/Desktop/F3 seismic data plus classification data for machine learning_/Penobscot_3D_gathers_part1/3D_gathers_pstm_nmo_X1561.npy\n",
      "Processed and saved /Users/vanderhoeffalex/Library/CloudStorage/OneDrive-TheBostonConsultingGroup,Inc/Desktop/F3 seismic data plus classification data for machine learning_/Penobscot_3D_gathers_part1/3D_gathers_pstm_nmo_X1001.sgy as /Users/vanderhoeffalex/Library/CloudStorage/OneDrive-TheBostonConsultingGroup,Inc/Desktop/F3 seismic data plus classification data for machine learning_/Penobscot_3D_gathers_part1/3D_gathers_pstm_nmo_X1001.npy\n",
      "All files processed and saved in /Users/vanderhoeffalex/Library/CloudStorage/OneDrive-TheBostonConsultingGroup,Inc/Desktop/F3 seismic data plus classification data for machine learning_/Penobscot_3D_gathers_part1\n"
     ]
    }
   ],
   "source": [
    "import_and_save_segy(\n",
    "    '/Users/vanderhoeffalex/Library/CloudStorage/OneDrive-TheBostonConsultingGroup,Inc/Desktop/F3 seismic data plus classification data for machine learning_/Penobscot_3D_gathers_part1',\n",
    "    inline_byte_loc=5, \n",
    "    crossline_byte_loc=9, \n",
    "    starttime_correction=0\n",
    ")"
   ]
  },
  {
   "cell_type": "code",
   "execution_count": 66,
   "metadata": {},
   "outputs": [],
   "source": [
    "X1041 = np.load( '/Users/vanderhoeffalex/Library/CloudStorage/OneDrive-TheBostonConsultingGroup,Inc/Desktop/F3 seismic data plus classification data for machine learning_/Penobscot_3D_gathers_part1/3D_gathers_pstm_nmo_X1041.npy')\n",
    "X1561 = np.load( '/Users/vanderhoeffalex/Library/CloudStorage/OneDrive-TheBostonConsultingGroup,Inc/Desktop/F3 seismic data plus classification data for machine learning_/Penobscot_3D_gathers_part1/3D_gathers_pstm_nmo_X1561.npy')\n",
    "X1001 = np.load( '/Users/vanderhoeffalex/Library/CloudStorage/OneDrive-TheBostonConsultingGroup,Inc/Desktop/F3 seismic data plus classification data for machine learning_/Penobscot_3D_gathers_part1/3D_gathers_pstm_nmo_X1001.npy')\n"
   ]
  },
  {
   "cell_type": "code",
   "execution_count": 71,
   "metadata": {},
   "outputs": [
    {
     "name": "stdout",
     "output_type": "stream",
     "text": [
      "Processed and saved /Users/vanderhoeffalex/Library/CloudStorage/OneDrive-TheBostonConsultingGroup,Inc/Desktop/F3 seismic data plus classification data for machine learning_/Penobscot_3D_gathers_part1/3D_gathers_pstm_nmo_X1041.sgy as /Users/vanderhoeffalex/Library/CloudStorage/OneDrive-TheBostonConsultingGroup,Inc/Desktop/F3 seismic data plus classification data for machine learning_/Penobscot_3D_gathers_part1/3D_gathers_pstm_nmo_X1041_3D.npy\n",
      "Processed and saved /Users/vanderhoeffalex/Library/CloudStorage/OneDrive-TheBostonConsultingGroup,Inc/Desktop/F3 seismic data plus classification data for machine learning_/Penobscot_3D_gathers_part1/3D_gathers_pstm_nmo_X1561.sgy as /Users/vanderhoeffalex/Library/CloudStorage/OneDrive-TheBostonConsultingGroup,Inc/Desktop/F3 seismic data plus classification data for machine learning_/Penobscot_3D_gathers_part1/3D_gathers_pstm_nmo_X1561_3D.npy\n",
      "Processed and saved /Users/vanderhoeffalex/Library/CloudStorage/OneDrive-TheBostonConsultingGroup,Inc/Desktop/F3 seismic data plus classification data for machine learning_/Penobscot_3D_gathers_part1/3D_gathers_pstm_nmo_X1001.sgy as /Users/vanderhoeffalex/Library/CloudStorage/OneDrive-TheBostonConsultingGroup,Inc/Desktop/F3 seismic data plus classification data for machine learning_/Penobscot_3D_gathers_part1/3D_gathers_pstm_nmo_X1001_3D.npy\n",
      "All files processed and saved in /Users/vanderhoeffalex/Library/CloudStorage/OneDrive-TheBostonConsultingGroup,Inc/Desktop/F3 seismic data plus classification data for machine learning_/Penobscot_3D_gathers_part1\n"
     ]
    }
   ],
   "source": [
    "import_and_save_segy_3d(\n",
    "    '/Users/vanderhoeffalex/Library/CloudStorage/OneDrive-TheBostonConsultingGroup,Inc/Desktop/F3 seismic data plus classification data for machine learning_/Penobscot_3D_gathers_part1',\n",
    "    starttime_correction=0\n",
    ")"
   ]
  },
  {
   "cell_type": "code",
   "execution_count": 72,
   "metadata": {},
   "outputs": [],
   "source": [
    "X1041 = np.load( '/Users/vanderhoeffalex/Library/CloudStorage/OneDrive-TheBostonConsultingGroup,Inc/Desktop/F3 seismic data plus classification data for machine learning_/Penobscot_3D_gathers_part1/3D_gathers_pstm_nmo_X1041_3D.npy')\n"
   ]
  },
  {
   "cell_type": "code",
   "execution_count": 73,
   "metadata": {},
   "outputs": [
    {
     "data": {
      "text/plain": [
       "(40, 482, 1501)"
      ]
     },
     "execution_count": 73,
     "metadata": {},
     "output_type": "execute_result"
    }
   ],
   "source": [
    "X1041.shape"
   ]
  },
  {
   "cell_type": "code",
   "execution_count": 102,
   "metadata": {},
   "outputs": [
    {
     "name": "stdout",
     "output_type": "stream",
     "text": [
      "Processed and saved /Users/vanderhoeffalex/Library/CloudStorage/OneDrive-TheBostonConsultingGroup,Inc/Desktop/F3 seismic data plus classification data for machine learning_/Penobscot_3D_gathers_part1/3D_gathers_pstm_nmo_X1041.sgy as /Users/vanderhoeffalex/Library/CloudStorage/OneDrive-TheBostonConsultingGroup,Inc/Desktop/F3 seismic data plus classification data for machine learning_/Penobscot_3D_gathers_part1/3D_gathers_pstm_nmo_X1041_3D.npy and /Users/vanderhoeffalex/Library/CloudStorage/OneDrive-TheBostonConsultingGroup,Inc/Desktop/F3 seismic data plus classification data for machine learning_/Penobscot_3D_gathers_part1/3D_gathers_pstm_nmo_X1041_offsets.npy\n",
      "Processed and saved /Users/vanderhoeffalex/Library/CloudStorage/OneDrive-TheBostonConsultingGroup,Inc/Desktop/F3 seismic data plus classification data for machine learning_/Penobscot_3D_gathers_part1/3D_gathers_pstm_nmo_X1561.sgy as /Users/vanderhoeffalex/Library/CloudStorage/OneDrive-TheBostonConsultingGroup,Inc/Desktop/F3 seismic data plus classification data for machine learning_/Penobscot_3D_gathers_part1/3D_gathers_pstm_nmo_X1561_3D.npy and /Users/vanderhoeffalex/Library/CloudStorage/OneDrive-TheBostonConsultingGroup,Inc/Desktop/F3 seismic data plus classification data for machine learning_/Penobscot_3D_gathers_part1/3D_gathers_pstm_nmo_X1561_offsets.npy\n",
      "Processed and saved /Users/vanderhoeffalex/Library/CloudStorage/OneDrive-TheBostonConsultingGroup,Inc/Desktop/F3 seismic data plus classification data for machine learning_/Penobscot_3D_gathers_part1/3D_gathers_pstm_nmo_X1001.sgy as /Users/vanderhoeffalex/Library/CloudStorage/OneDrive-TheBostonConsultingGroup,Inc/Desktop/F3 seismic data plus classification data for machine learning_/Penobscot_3D_gathers_part1/3D_gathers_pstm_nmo_X1001_3D.npy and /Users/vanderhoeffalex/Library/CloudStorage/OneDrive-TheBostonConsultingGroup,Inc/Desktop/F3 seismic data plus classification data for machine learning_/Penobscot_3D_gathers_part1/3D_gathers_pstm_nmo_X1001_offsets.npy\n",
      "All files processed and saved in /Users/vanderhoeffalex/Library/CloudStorage/OneDrive-TheBostonConsultingGroup,Inc/Desktop/F3 seismic data plus classification data for machine learning_/Penobscot_3D_gathers_part1\n"
     ]
    }
   ],
   "source": [
    "import_and_save_segy_3d_with_metadata(\n",
    "    '/Users/vanderhoeffalex/Library/CloudStorage/OneDrive-TheBostonConsultingGroup,Inc/Desktop/F3 seismic data plus classification data for machine learning_/Penobscot_3D_gathers_part1',\n",
    "    starttime_correction=0\n",
    ")"
   ]
  },
  {
   "cell_type": "code",
   "execution_count": 88,
   "metadata": {},
   "outputs": [
    {
     "data": {
      "image/png": "[encoded data removed]",
      "text/plain": [
       "<Figure size 1800x600 with 2 Axes>"
      ]
     },
     "metadata": {},
     "output_type": "display_data"
    }
   ],
   "source": [
    "idx = 360\n",
    "x_cr = X1041[:, :, idx].swapaxes(0, 1)\n",
    "#x_crl = penobscot[:, :, idx].swapaxes(0, 1)\n",
    "\n",
    "plot_aline(x_cr,x_cr, xlabel=\"crossline\")"
   ]
  },
  {
   "cell_type": "code",
   "execution_count": 10,
   "metadata": {},
   "outputs": [],
   "source": [
    "# read post-stack fault datasets\n",
    "spaveon_fault = read_segy_file('/Users/vanderhoeffalex/Library/CloudStorage/OneDrive-TheBostonConsultingGroup,Inc/Desktop/F3 seismic data plus classification data for machine learning_/Sparveon_blind _detected_fault-002.segy')"
   ]
  },
  {
   "cell_type": "code",
   "execution_count": 18,
   "metadata": {},
   "outputs": [
    {
     "data": {
      "text/plain": [
       "array([[0., 0., 0., ..., 0., 0., 0.],\n",
       "       [0., 0., 0., ..., 0., 0., 0.],\n",
       "       [0., 0., 0., ..., 0., 0., 0.],\n",
       "       ...,\n",
       "       [0., 0., 0., ..., 0., 0., 0.],\n",
       "       [0., 0., 0., ..., 0., 0., 0.],\n",
       "       [0., 0., 0., ..., 0., 0., 0.]], dtype=float32)"
      ]
     },
     "execution_count": 18,
     "metadata": {},
     "output_type": "execute_result"
    }
   ],
   "source": [
    "segy_file_path = 'path_to_your_segy_file.segy'\n",
    "npy_file_path = 'path_to_your_output_file.npy'\n",
    "npy_inline_path = 'path_to_your_output_inline_file.npy'\n",
    "npy_crossline_path = 'path_to_your_output_crossline_file.npy'\n",
    "segy_to_npy_with_coordinates(segy_file_path, npy_file_path, npy_inline_path, npy_crossline_path)"
   ]
  },
  {
   "cell_type": "code",
   "execution_count": 24,
   "metadata": {},
   "outputs": [
    {
     "ename": "ValueError",
     "evalue": "Crosslines inconsistent, expect all crosslines to be unique",
     "output_type": "error",
     "traceback": [
      "\u001b[0;31m---------------------------------------------------------------------------\u001b[0m",
      "\u001b[0;31mValueError\u001b[0m                                Traceback (most recent call last)",
      "Cell \u001b[0;32mIn[24], line 8\u001b[0m\n\u001b[1;32m      5\u001b[0m npy_azimuth_path \u001b[38;5;241m=\u001b[39m \u001b[38;5;124m'\u001b[39m\u001b[38;5;124m/Users/vanderhoeffalex/Library/CloudStorage/OneDrive-TheBostonConsultingGroup,Inc/Desktop/F3 seismic data plus classification data for machine learning_/CrossQI-FinalAngles/CQI-tAngs_azimuth.npy\u001b[39m\u001b[38;5;124m'\u001b[39m\n\u001b[1;32m      6\u001b[0m npy_offset_path \u001b[38;5;241m=\u001b[39m \u001b[38;5;124m'\u001b[39m\u001b[38;5;124m/Users/vanderhoeffalex/Library/CloudStorage/OneDrive-TheBostonConsultingGroup,Inc/Desktop/F3 seismic data plus classification data for machine learning_/CrossQI-FinalAngles/CQI-tAngs_offset.npy\u001b[39m\u001b[38;5;124m'\u001b[39m\n\u001b[0;32m----> 8\u001b[0m \u001b[43msegy_to_npy_prestack\u001b[49m\u001b[43m(\u001b[49m\u001b[43msegy_file_path\u001b[49m\u001b[43m,\u001b[49m\u001b[43m \u001b[49m\u001b[43mnpy_file_path\u001b[49m\u001b[43m,\u001b[49m\u001b[43m \u001b[49m\u001b[43mnpy_inline_path\u001b[49m\u001b[43m,\u001b[49m\u001b[43m \u001b[49m\u001b[43mnpy_crossline_path\u001b[49m\u001b[43m,\u001b[49m\u001b[43m \u001b[49m\u001b[43mnpy_azimuth_path\u001b[49m\u001b[43m,\u001b[49m\u001b[43m \u001b[49m\u001b[43mnpy_offset_path\u001b[49m\u001b[43m)\u001b[49m\n",
      "File \u001b[0;32m~/Library/CloudStorage/OneDrive-TheBostonConsultingGroup,Inc/Desktop/Seismic_AI/geophysics/dhi.py:157\u001b[0m, in \u001b[0;36msegy_to_npy_prestack\u001b[0;34m(segy_file_path, npy_file_path, npy_inline_path, npy_crossline_path, npy_azimuth_path, npy_offset_path)\u001b[0m\n\u001b[1;32m    145\u001b[0m \u001b[38;5;250m\u001b[39m\u001b[38;5;124;03m\"\"\"\u001b[39;00m\n\u001b[1;32m    146\u001b[0m \u001b[38;5;124;03mConvert a SEG-Y file to NumPy (.npy) format and save additional pre-stack data characteristics.\u001b[39;00m\n\u001b[1;32m    147\u001b[0m \n\u001b[0;32m   (...)\u001b[0m\n\u001b[1;32m    154\u001b[0m \u001b[38;5;124;03mnpy_offset_path (str): Path to the output NPY file for offset data.\u001b[39;00m\n\u001b[1;32m    155\u001b[0m \u001b[38;5;124;03m\"\"\"\u001b[39;00m\n\u001b[1;32m    156\u001b[0m \u001b[38;5;66;03m# Open the SEG-Y file\u001b[39;00m\n\u001b[0;32m--> 157\u001b[0m \u001b[38;5;28;01mwith\u001b[39;00m \u001b[43msegyio\u001b[49m\u001b[38;5;241;43m.\u001b[39;49m\u001b[43mopen\u001b[49m\u001b[43m(\u001b[49m\u001b[43msegy_file_path\u001b[49m\u001b[43m,\u001b[49m\u001b[43m \u001b[49m\u001b[38;5;124;43m\"\u001b[39;49m\u001b[38;5;124;43mr\u001b[39;49m\u001b[38;5;124;43m\"\u001b[39;49m\u001b[43m)\u001b[49m \u001b[38;5;28;01mas\u001b[39;00m segyfile:\n\u001b[1;32m    158\u001b[0m     segyfile\u001b[38;5;241m.\u001b[39mmmap()  \u001b[38;5;66;03m# Memory-map the file for better performance\u001b[39;00m\n\u001b[1;32m    160\u001b[0m     \u001b[38;5;66;03m# Extract data as a 3D NumPy array\u001b[39;00m\n",
      "File \u001b[0;32m~/anaconda3/envs/tf/lib/python3.11/site-packages/segyio/open.py:192\u001b[0m, in \u001b[0;36mopen\u001b[0;34m(filename, mode, iline, xline, strict, ignore_geometry, endian)\u001b[0m\n\u001b[1;32m    189\u001b[0m \u001b[38;5;28;01mif\u001b[39;00m ignore_geometry:\n\u001b[1;32m    190\u001b[0m     \u001b[38;5;28;01mreturn\u001b[39;00m f\n\u001b[0;32m--> 192\u001b[0m \u001b[38;5;28;01mreturn\u001b[39;00m \u001b[43minfer_geometry\u001b[49m\u001b[43m(\u001b[49m\u001b[43mf\u001b[49m\u001b[43m,\u001b[49m\u001b[43m \u001b[49m\u001b[43mmetrics\u001b[49m\u001b[43m,\u001b[49m\u001b[43m \u001b[49m\u001b[43miline\u001b[49m\u001b[43m,\u001b[49m\u001b[43m \u001b[49m\u001b[43mxline\u001b[49m\u001b[43m,\u001b[49m\u001b[43m \u001b[49m\u001b[43mstrict\u001b[49m\u001b[43m)\u001b[49m\n",
      "File \u001b[0;32m~/anaconda3/envs/tf/lib/python3.11/site-packages/segyio/open.py:19\u001b[0m, in \u001b[0;36minfer_geometry\u001b[0;34m(f, metrics, iline, xline, strict)\u001b[0m\n\u001b[1;32m     16\u001b[0m     offsets \u001b[38;5;241m=\u001b[39m numpy\u001b[38;5;241m.\u001b[39mzeros(offset_count, dtype\u001b[38;5;241m=\u001b[39mnumpy\u001b[38;5;241m.\u001b[39mintc)\n\u001b[1;32m     18\u001b[0m     f\u001b[38;5;241m.\u001b[39mxfd\u001b[38;5;241m.\u001b[39mindices(metrics, ilines, xlines, offsets)\n\u001b[0;32m---> 19\u001b[0m     \u001b[43mf\u001b[49m\u001b[38;5;241;43m.\u001b[39;49m\u001b[43minterpret\u001b[49m\u001b[43m(\u001b[49m\u001b[43milines\u001b[49m\u001b[43m,\u001b[49m\u001b[43m \u001b[49m\u001b[43mxlines\u001b[49m\u001b[43m,\u001b[49m\u001b[43m \u001b[49m\u001b[43moffsets\u001b[49m\u001b[43m,\u001b[49m\u001b[43m \u001b[49m\u001b[43mf\u001b[49m\u001b[38;5;241;43m.\u001b[39;49m\u001b[43m_sorting\u001b[49m\u001b[43m)\u001b[49m\n\u001b[1;32m     21\u001b[0m \u001b[38;5;28;01mexcept\u001b[39;00m:\n\u001b[1;32m     22\u001b[0m     \u001b[38;5;28;01mif\u001b[39;00m \u001b[38;5;129;01mnot\u001b[39;00m strict:\n",
      "File \u001b[0;32m~/anaconda3/envs/tf/lib/python3.11/site-packages/segyio/segy.py:931\u001b[0m, in \u001b[0;36mSegyFile.interpret\u001b[0;34m(self, ilines, xlines, offsets, sorting)\u001b[0m\n\u001b[1;32m    929\u001b[0m     error \u001b[38;5;241m=\u001b[39m \u001b[38;5;124m\"\u001b[39m\u001b[38;5;124mCrosslines inconsistent\u001b[39m\u001b[38;5;124m\"\u001b[39m\n\u001b[1;32m    930\u001b[0m     solution \u001b[38;5;241m=\u001b[39m \u001b[38;5;124m\"\u001b[39m\u001b[38;5;124mexpect all crosslines to be unique\u001b[39m\u001b[38;5;124m\"\u001b[39m\n\u001b[0;32m--> 931\u001b[0m     \u001b[38;5;28;01mraise\u001b[39;00m \u001b[38;5;167;01mValueError\u001b[39;00m(\u001b[38;5;124m\"\u001b[39m\u001b[38;5;132;01m{}\u001b[39;00m\u001b[38;5;124m, \u001b[39m\u001b[38;5;132;01m{}\u001b[39;00m\u001b[38;5;124m\"\u001b[39m\u001b[38;5;241m.\u001b[39mformat(error, solution))\n\u001b[1;32m    933\u001b[0m \u001b[38;5;28;01mif\u001b[39;00m np\u001b[38;5;241m.\u001b[39munique(offsets)\u001b[38;5;241m.\u001b[39msize \u001b[38;5;241m!=\u001b[39m offsets\u001b[38;5;241m.\u001b[39msize:\n\u001b[1;32m    934\u001b[0m     error \u001b[38;5;241m=\u001b[39m \u001b[38;5;124m\"\u001b[39m\u001b[38;5;124mOffsets inconsistent\u001b[39m\u001b[38;5;124m\"\u001b[39m\n",
      "\u001b[0;31mValueError\u001b[0m: Crosslines inconsistent, expect all crosslines to be unique"
     ]
    }
   ],
   "source": [
    "\n",
    "segy_file_path = '/Users/vanderhoeffalex/Library/CloudStorage/OneDrive-TheBostonConsultingGroup,Inc/Desktop/F3 seismic data plus classification data for machine learning_/CrossQI-FinalAngles/CQI-tAngs.sgy'\n",
    "npy_file_path = '/Users/vanderhoeffalex/Library/CloudStorage/OneDrive-TheBostonConsultingGroup,Inc/Desktop/F3 seismic data plus classification data for machine learning_/CrossQI-FinalAngles/CQI-tAngs.npy'\n",
    "npy_inline_path = '/Users/vanderhoeffalex/Library/CloudStorage/OneDrive-TheBostonConsultingGroup,Inc/Desktop/F3 seismic data plus classification data for machine learning_/CrossQI-FinalAngles/CQI-tAngs_inline.npy'\n",
    "npy_crossline_path = '/Users/vanderhoeffalex/Library/CloudStorage/OneDrive-TheBostonConsultingGroup,Inc/Desktop/F3 seismic data plus classification data for machine learning_/CrossQI-FinalAngles/CQI-tAngs_crossline.npy'\n",
    "npy_azimuth_path = '/Users/vanderhoeffalex/Library/CloudStorage/OneDrive-TheBostonConsultingGroup,Inc/Desktop/F3 seismic data plus classification data for machine learning_/CrossQI-FinalAngles/CQI-tAngs_azimuth.npy'\n",
    "npy_offset_path = '/Users/vanderhoeffalex/Library/CloudStorage/OneDrive-TheBostonConsultingGroup,Inc/Desktop/F3 seismic data plus classification data for machine learning_/CrossQI-FinalAngles/CQI-tAngs_offset.npy'\n",
    "\n",
    "segy_to_npy_prestack(segy_file_path, npy_file_path, npy_inline_path, npy_crossline_path, npy_azimuth_path, npy_offset_path)"
   ]
  },
  {
   "cell_type": "code",
   "execution_count": 26,
   "metadata": {},
   "outputs": [
    {
     "name": "stdout",
     "output_type": "stream",
     "text": [
      "Warning: Non-unique crossline numbers found.\n",
      "Data saved to /Users/vanderhoeffalex/Library/CloudStorage/OneDrive-TheBostonConsultingGroup,Inc/Desktop/F3 seismic data plus classification data for machine learning_/CrossQI-FinalAngles/CQI-tAngs.npy\n"
     ]
    }
   ],
   "source": [
    "npy_file_path = '/Users/vanderhoeffalex/Library/CloudStorage/OneDrive-TheBostonConsultingGroup,Inc/Desktop/F3 seismic data plus classification data for machine learning_/CrossQI-FinalAngles/CQI-tAngs.npy'\n",
    "segy_file_path = '/Users/vanderhoeffalex/Library/CloudStorage/OneDrive-TheBostonConsultingGroup,Inc/Desktop/F3 seismic data plus classification data for machine learning_/CrossQI-FinalAngles/CQI-tAngs.sgy'\n",
    "\n",
    "segy_to_npy_with_manual_headers(segy_file_path,npy_file_path)"
   ]
  },
  {
   "cell_type": "code",
   "execution_count": 27,
   "metadata": {},
   "outputs": [],
   "source": [
    "penobscot = np.load(npy_file_path)\n"
   ]
  },
  {
   "cell_type": "code",
   "execution_count": 33,
   "metadata": {},
   "outputs": [
    {
     "name": "stdout",
     "output_type": "stream",
     "text": [
      "Number of inline slices: 1598\n",
      "Number of crossline slices: 1501\n",
      "Depth dimension : 1479\n"
     ]
    }
   ],
   "source": [
    "print(f\"Number of inline slices: {penobscot.shape[0]}\")\n",
    "print(f\"Number of crossline slices: {penobscot.shape[1]}\")\n",
    "print(f\"Depth dimension : {penobscot.shape[2]}\")"
   ]
  },
  {
   "cell_type": "code",
   "execution_count": 43,
   "metadata": {},
   "outputs": [
    {
     "ename": "IndexError",
     "evalue": "too many indices for array: array is 2-dimensional, but 3 were indexed",
     "output_type": "error",
     "traceback": [
      "\u001b[0;31m---------------------------------------------------------------------------\u001b[0m",
      "\u001b[0;31mIndexError\u001b[0m                                Traceback (most recent call last)",
      "Cell \u001b[0;32mIn[43], line 2\u001b[0m\n\u001b[1;32m      1\u001b[0m idx \u001b[38;5;241m=\u001b[39m \u001b[38;5;241m50\u001b[39m\n\u001b[0;32m----> 2\u001b[0m x_cr \u001b[38;5;241m=\u001b[39m \u001b[43mmobil\u001b[49m\u001b[43m[\u001b[49m\u001b[43m:\u001b[49m\u001b[43m,\u001b[49m\u001b[43m \u001b[49m\u001b[43midx\u001b[49m\u001b[43m,\u001b[49m\u001b[43m \u001b[49m\u001b[43m:\u001b[49m\u001b[43m]\u001b[49m\u001b[38;5;241m.\u001b[39mswapaxes(\u001b[38;5;241m0\u001b[39m, \u001b[38;5;241m1\u001b[39m)\n\u001b[1;32m      3\u001b[0m \u001b[38;5;66;03m#x_crl = penobscot[:, :, idx].swapaxes(0, 1)\u001b[39;00m\n\u001b[1;32m      5\u001b[0m plot_aline(x_cr,x_cr, xlabel\u001b[38;5;241m=\u001b[39m\u001b[38;5;124m\"\u001b[39m\u001b[38;5;124mcrossline\u001b[39m\u001b[38;5;124m\"\u001b[39m)\n",
      "\u001b[0;31mIndexError\u001b[0m: too many indices for array: array is 2-dimensional, but 3 were indexed"
     ]
    }
   ],
   "source": [
    "idx = 50\n",
    "x_cr = penobscot[:, idx, :].swapaxes(0, 1)\n",
    "#x_crl = penobscot[:, :, idx].swapaxes(0, 1)\n",
    "\n",
    "plot_aline(x_cr,x_cr, xlabel=\"crossline\")"
   ]
  },
  {
   "cell_type": "code",
   "execution_count": null,
   "metadata": {},
   "outputs": [],
   "source": [
    "# Example usage\n",
    "# Assuming 'data' is your loaded 3D seismic dataset:\n",
    "processor = DHIComputations(train_seismic)\n",
    "\n",
    "# Compute amplitude and detect bright spots\n",
    "amplitude = processor.compute_amplitude()\n",
    "bright_spots = processor.detect_bright_spots(amplitude)\n",
    "\n",
    "# Compute phase and detect phase reversals\n",
    "phase = processor.compute_instantaneous_phase()\n",
    "phase_reversals = processor.detect_phase_reversals(phase)\n",
    "\n",
    "# Detect other features\n",
    "flat_spots = processor.detect_flat_spots()\n",
    "gas_chimneys = processor.detect_gas_chimneys()\n",
    "shadow_effects = processor.detect_shadow_effects()"
   ]
  },
  {
   "cell_type": "code",
   "execution_count": null,
   "metadata": {},
   "outputs": [],
   "source": [
    "# Calculate thresholds based on the data\n",
    "thresholds = calculate_thresholds(train_seismic)"
   ]
  }
 ],
 "metadata": {
  "kernelspec": {
   "display_name": "tf",
   "language": "python",
   "name": "python3"
  },
  "language_info": {
   "codemirror_mode": {
    "name": "ipython",
    "version": 3
   },
   "file_extension": ".py",
   "mimetype": "text/x-python",
   "name": "python",
   "nbconvert_exporter": "python",
   "pygments_lexer": "ipython3",
   "version": "3.11.5"
  }
 },
 "nbformat": 4,
 "nbformat_minor": 2
}
